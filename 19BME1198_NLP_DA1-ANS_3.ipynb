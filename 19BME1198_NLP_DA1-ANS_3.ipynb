{
  "nbformat": 4,
  "nbformat_minor": 0,
  "metadata": {
    "colab": {
      "name": "Untitled0.ipynb",
      "provenance": []
    },
    "kernelspec": {
      "name": "python3",
      "display_name": "Python 3"
    },
    "language_info": {
      "name": "python"
    }
  },
  "cells": [
    {
      "cell_type": "code",
      "execution_count": 25,
      "metadata": {
        "id": "wMMX-iED9gEN",
        "colab": {
          "base_uri": "https://localhost:8080/"
        },
        "outputId": "df14dc21-1291-4227-bdb5-aca666cb9eb8"
      },
      "outputs": [
        {
          "output_type": "stream",
          "name": "stderr",
          "text": [
            "[nltk_data] Downloading package brown to /root/nltk_data...\n",
            "[nltk_data]   Package brown is already up-to-date!\n",
            "[nltk_data] Downloading package punkt to /root/nltk_data...\n",
            "[nltk_data]   Package punkt is already up-to-date!\n",
            "[nltk_data] Downloading package stopwords to /root/nltk_data...\n",
            "[nltk_data]   Package stopwords is already up-to-date!\n",
            "[nltk_data] Downloading package wordnet to /root/nltk_data...\n"
          ]
        },
        {
          "output_type": "execute_result",
          "data": {
            "text/plain": [
              "True"
            ]
          },
          "metadata": {},
          "execution_count": 25
        }
      ],
      "source": [
        "import nltk\n",
        "nltk.download('brown')\n",
        "nltk.download('punkt')\n",
        "nltk.download('stopwords')\n",
        "nltk.download('wordnet')\n",
        "nltk.download('averaged_perceptron_tagger')"
      ]
    },
    {
      "cell_type": "code",
      "source": [
        "text=\"India is my country. All Indians are my brothers and sister. India has one of the finest cricket teams and is being recognized all over the world now. India constitues of rich culture and heritage with unique traditions and forms of life. There are rich varities of flora and fauna in India and is also one of the countries to have both lion and tiger. India has the largest population and has a good export economy. India is mainly famous for the superstiitions and beliefs which differ in every state. India is also famous for the architectural marvels and the sculptures. India is not the country you must not miss to visit.\""
      ],
      "metadata": {
        "id": "yllhxMwqOUjz"
      },
      "execution_count": 2,
      "outputs": []
    },
    {
      "cell_type": "code",
      "source": [
        "from nltk.tokenize import word_tokenize\n",
        "from nltk.tokenize import sent_tokenize\n",
        "from nltk.corpus import stopwords\n",
        "stop_words = set(stopwords.words('english'))\n",
        "\n",
        "\n",
        "\n"
      ],
      "metadata": {
        "id": "9U6VBc6bYmBs"
      },
      "execution_count": 22,
      "outputs": []
    },
    {
      "cell_type": "code",
      "source": [
        "\n"
      ],
      "metadata": {
        "id": "S21DT7MCePFj"
      },
      "execution_count": null,
      "outputs": []
    },
    {
      "cell_type": "code",
      "source": [
        "r1=word_tokenize(text)\n",
        "r2=sent_tokenize(text)\n",
        "r3=text.lower()\n",
        "r4=[w for w in r1 if not w in stop_words]\n",
        "\n",
        "\n",
        "\n",
        "\n",
        "\n"
      ],
      "metadata": {
        "id": "LVGvyzNkZCSn"
      },
      "execution_count": null,
      "outputs": []
    },
    {
      "cell_type": "code",
      "source": [
        "print(r1)\n",
        "print(r2)\n",
        "print(r3)\n",
        "print(r4)\n"
      ],
      "metadata": {
        "id": "YRJ-RAJ0auCS"
      },
      "execution_count": null,
      "outputs": []
    },
    {
      "cell_type": "code",
      "source": [
        "#porter stemmer algorithm for stemming\n",
        "from nltk.stem import PorterStemmer\n",
        "\n",
        "ps = PorterStemmer()\n",
        "for w in r1:\n",
        "    print(w, \" : \", ps.stem(w))\n",
        "\n"
      ],
      "metadata": {
        "id": "W5BMmniUfXaZ"
      },
      "execution_count": null,
      "outputs": []
    },
    {
      "cell_type": "code",
      "source": [
        "#lemmetization\n",
        "nltk.download('omw-1.4')\n",
        "from nltk.stem import WordNetLemmatizer\n",
        "  \n",
        "lemmatizer = WordNetLemmatizer()\n",
        "for w in r1:\n",
        "  print(w,\":\" ,lemmatizer.lemmatize(w))"
      ],
      "metadata": {
        "id": "MrO88GPvfYVc"
      },
      "execution_count": null,
      "outputs": []
    },
    {
      "cell_type": "code",
      "source": [
        "\n",
        "r7=nltk.pos_tag(r1)\n",
        "print(r7)"
      ],
      "metadata": {
        "colab": {
          "base_uri": "https://localhost:8080/"
        },
        "id": "g35153L5f_L8",
        "outputId": "1aa5cb02-d33a-4917-d6c8-2904bf53ca30"
      },
      "execution_count": 31,
      "outputs": [
        {
          "output_type": "stream",
          "name": "stdout",
          "text": [
            "[('India', 'NNP'), ('is', 'VBZ'), ('my', 'PRP$'), ('country', 'NN'), ('.', '.'), ('All', 'DT'), ('Indians', 'NNPS'), ('are', 'VBP'), ('my', 'PRP$'), ('brothers', 'NNS'), ('and', 'CC'), ('sister', 'NN'), ('.', '.'), ('India', 'NNP'), ('has', 'VBZ'), ('one', 'CD'), ('of', 'IN'), ('the', 'DT'), ('finest', 'JJS'), ('cricket', 'NN'), ('teams', 'NNS'), ('and', 'CC'), ('is', 'VBZ'), ('being', 'VBG'), ('recognized', 'VBN'), ('all', 'DT'), ('over', 'IN'), ('the', 'DT'), ('world', 'NN'), ('now', 'RB'), ('.', '.'), ('India', 'NNP'), ('constitues', 'NNS'), ('of', 'IN'), ('rich', 'JJ'), ('culture', 'NN'), ('and', 'CC'), ('heritage', 'NN'), ('with', 'IN'), ('unique', 'JJ'), ('traditions', 'NNS'), ('and', 'CC'), ('forms', 'NNS'), ('of', 'IN'), ('life', 'NN'), ('.', '.'), ('There', 'EX'), ('are', 'VBP'), ('rich', 'JJ'), ('varities', 'NNS'), ('of', 'IN'), ('flora', 'NNS'), ('and', 'CC'), ('fauna', 'NNS'), ('in', 'IN'), ('India', 'NNP'), ('and', 'CC'), ('is', 'VBZ'), ('also', 'RB'), ('one', 'CD'), ('of', 'IN'), ('the', 'DT'), ('countries', 'NNS'), ('to', 'TO'), ('have', 'VB'), ('both', 'DT'), ('lion', 'NN'), ('and', 'CC'), ('tiger', 'NN'), ('.', '.'), ('India', 'NNP'), ('has', 'VBZ'), ('the', 'DT'), ('largest', 'JJS'), ('population', 'NN'), ('and', 'CC'), ('has', 'VBZ'), ('a', 'DT'), ('good', 'JJ'), ('export', 'NN'), ('economy', 'NN'), ('.', '.'), ('India', 'NNP'), ('is', 'VBZ'), ('mainly', 'RB'), ('famous', 'JJ'), ('for', 'IN'), ('the', 'DT'), ('superstiitions', 'NNS'), ('and', 'CC'), ('beliefs', 'NNS'), ('which', 'WDT'), ('differ', 'VBP'), ('in', 'IN'), ('every', 'DT'), ('state', 'NN'), ('.', '.'), ('India', 'NNP'), ('is', 'VBZ'), ('also', 'RB'), ('famous', 'JJ'), ('for', 'IN'), ('the', 'DT'), ('architectural', 'JJ'), ('marvels', 'NNS'), ('and', 'CC'), ('the', 'DT'), ('sculptures', 'NNS'), ('.', '.'), ('India', 'NNP'), ('is', 'VBZ'), ('not', 'RB'), ('the', 'DT'), ('country', 'NN'), ('you', 'PRP'), ('must', 'MD'), ('not', 'RB'), ('miss', 'VB'), ('to', 'TO'), ('visit', 'VB'), ('.', '.')]\n"
          ]
        }
      ]
    }
  ]
}